{
 "cells": [
  {
   "cell_type": "markdown",
   "metadata": {},
   "source": [
    "# Pokemon Data"
   ]
  },
  {
   "cell_type": "raw",
   "metadata": {},
   "source": [
    "<script>\n",
    "  function code_toggle() {\n",
    "    if (code_shown){\n",
    "      $('div.input').hide('500');\n",
    "      $('#toggleButton').val('Show Code')\n",
    "    } else {\n",
    "      $('div.input').show('500');\n",
    "      $('#toggleButton').val('Hide Code')\n",
    "    }\n",
    "    code_shown = !code_shown\n",
    "  }\n",
    "\n",
    "  $( document ).ready(function(){\n",
    "    code_shown=false;\n",
    "    $('div.input').hide()\n",
    "  });\n",
    "</script>\n",
    "<form action=\"javascript:code_toggle()\"><input type=\"submit\" id=\"toggleButton\" value=\"Show Code\"></form>"
   ]
  },
  {
   "cell_type": "code",
   "execution_count": 1,
   "metadata": {
    "inputHidden": false,
    "outputHidden": false
   },
   "outputs": [],
   "source": [
    "import matplotlib.pyplot as plt\n",
    "import numpy as np\n",
    "import pandas as pd\n",
    "import seaborn as sns; sns.set()"
   ]
  },
  {
   "cell_type": "code",
   "execution_count": 2,
   "metadata": {
    "inputHidden": false,
    "outputHidden": false
   },
   "outputs": [],
   "source": [
    "df = pd.read_csv('D:/Data/Pokemon/pokemon_alopez247.csv')"
   ]
  },
  {
   "cell_type": "code",
   "execution_count": 3,
   "metadata": {
    "inputHidden": false,
    "outputHidden": false
   },
   "outputs": [
    {
     "data": {
      "text/html": [
       "<div>\n",
       "<style scoped>\n",
       "    .dataframe tbody tr th:only-of-type {\n",
       "        vertical-align: middle;\n",
       "    }\n",
       "\n",
       "    .dataframe tbody tr th {\n",
       "        vertical-align: top;\n",
       "    }\n",
       "\n",
       "    .dataframe thead th {\n",
       "        text-align: right;\n",
       "    }\n",
       "</style>\n",
       "<table border=\"1\" class=\"dataframe\">\n",
       "  <thead>\n",
       "    <tr style=\"text-align: right;\">\n",
       "      <th></th>\n",
       "      <th>Number</th>\n",
       "      <th>Name</th>\n",
       "      <th>Type_1</th>\n",
       "      <th>Type_2</th>\n",
       "      <th>Total</th>\n",
       "      <th>HP</th>\n",
       "      <th>Attack</th>\n",
       "      <th>Defense</th>\n",
       "      <th>Sp_Atk</th>\n",
       "      <th>Sp_Def</th>\n",
       "      <th>...</th>\n",
       "      <th>Color</th>\n",
       "      <th>hasGender</th>\n",
       "      <th>Pr_Male</th>\n",
       "      <th>Egg_Group_1</th>\n",
       "      <th>Egg_Group_2</th>\n",
       "      <th>hasMegaEvolution</th>\n",
       "      <th>Height_m</th>\n",
       "      <th>Weight_kg</th>\n",
       "      <th>Catch_Rate</th>\n",
       "      <th>Body_Style</th>\n",
       "    </tr>\n",
       "  </thead>\n",
       "  <tbody>\n",
       "    <tr>\n",
       "      <th>0</th>\n",
       "      <td>1</td>\n",
       "      <td>Bulbasaur</td>\n",
       "      <td>Grass</td>\n",
       "      <td>Poison</td>\n",
       "      <td>318</td>\n",
       "      <td>45</td>\n",
       "      <td>49</td>\n",
       "      <td>49</td>\n",
       "      <td>65</td>\n",
       "      <td>65</td>\n",
       "      <td>...</td>\n",
       "      <td>Green</td>\n",
       "      <td>1</td>\n",
       "      <td>0.875</td>\n",
       "      <td>Monster</td>\n",
       "      <td>Grass</td>\n",
       "      <td>0</td>\n",
       "      <td>0.71</td>\n",
       "      <td>6.9</td>\n",
       "      <td>45</td>\n",
       "      <td>quadruped</td>\n",
       "    </tr>\n",
       "    <tr>\n",
       "      <th>1</th>\n",
       "      <td>2</td>\n",
       "      <td>Ivysaur</td>\n",
       "      <td>Grass</td>\n",
       "      <td>Poison</td>\n",
       "      <td>405</td>\n",
       "      <td>60</td>\n",
       "      <td>62</td>\n",
       "      <td>63</td>\n",
       "      <td>80</td>\n",
       "      <td>80</td>\n",
       "      <td>...</td>\n",
       "      <td>Green</td>\n",
       "      <td>1</td>\n",
       "      <td>0.875</td>\n",
       "      <td>Monster</td>\n",
       "      <td>Grass</td>\n",
       "      <td>0</td>\n",
       "      <td>0.99</td>\n",
       "      <td>13.0</td>\n",
       "      <td>45</td>\n",
       "      <td>quadruped</td>\n",
       "    </tr>\n",
       "    <tr>\n",
       "      <th>2</th>\n",
       "      <td>3</td>\n",
       "      <td>Venusaur</td>\n",
       "      <td>Grass</td>\n",
       "      <td>Poison</td>\n",
       "      <td>525</td>\n",
       "      <td>80</td>\n",
       "      <td>82</td>\n",
       "      <td>83</td>\n",
       "      <td>100</td>\n",
       "      <td>100</td>\n",
       "      <td>...</td>\n",
       "      <td>Green</td>\n",
       "      <td>1</td>\n",
       "      <td>0.875</td>\n",
       "      <td>Monster</td>\n",
       "      <td>Grass</td>\n",
       "      <td>1</td>\n",
       "      <td>2.01</td>\n",
       "      <td>100.0</td>\n",
       "      <td>45</td>\n",
       "      <td>quadruped</td>\n",
       "    </tr>\n",
       "    <tr>\n",
       "      <th>3</th>\n",
       "      <td>4</td>\n",
       "      <td>Charmander</td>\n",
       "      <td>Fire</td>\n",
       "      <td>NaN</td>\n",
       "      <td>309</td>\n",
       "      <td>39</td>\n",
       "      <td>52</td>\n",
       "      <td>43</td>\n",
       "      <td>60</td>\n",
       "      <td>50</td>\n",
       "      <td>...</td>\n",
       "      <td>Red</td>\n",
       "      <td>1</td>\n",
       "      <td>0.875</td>\n",
       "      <td>Monster</td>\n",
       "      <td>Dragon</td>\n",
       "      <td>0</td>\n",
       "      <td>0.61</td>\n",
       "      <td>8.5</td>\n",
       "      <td>45</td>\n",
       "      <td>bipedal_tailed</td>\n",
       "    </tr>\n",
       "    <tr>\n",
       "      <th>4</th>\n",
       "      <td>5</td>\n",
       "      <td>Charmeleon</td>\n",
       "      <td>Fire</td>\n",
       "      <td>NaN</td>\n",
       "      <td>405</td>\n",
       "      <td>58</td>\n",
       "      <td>64</td>\n",
       "      <td>58</td>\n",
       "      <td>80</td>\n",
       "      <td>65</td>\n",
       "      <td>...</td>\n",
       "      <td>Red</td>\n",
       "      <td>1</td>\n",
       "      <td>0.875</td>\n",
       "      <td>Monster</td>\n",
       "      <td>Dragon</td>\n",
       "      <td>0</td>\n",
       "      <td>1.09</td>\n",
       "      <td>19.0</td>\n",
       "      <td>45</td>\n",
       "      <td>bipedal_tailed</td>\n",
       "    </tr>\n",
       "  </tbody>\n",
       "</table>\n",
       "<p>5 rows × 23 columns</p>\n",
       "</div>"
      ],
      "text/plain": [
       "   Number        Name Type_1  Type_2  Total  HP  Attack  Defense  Sp_Atk  \\\n",
       "0       1   Bulbasaur  Grass  Poison    318  45      49       49      65   \n",
       "1       2     Ivysaur  Grass  Poison    405  60      62       63      80   \n",
       "2       3    Venusaur  Grass  Poison    525  80      82       83     100   \n",
       "3       4  Charmander   Fire     NaN    309  39      52       43      60   \n",
       "4       5  Charmeleon   Fire     NaN    405  58      64       58      80   \n",
       "\n",
       "   Sp_Def       ...        Color  hasGender Pr_Male Egg_Group_1 Egg_Group_2  \\\n",
       "0      65       ...        Green          1   0.875     Monster       Grass   \n",
       "1      80       ...        Green          1   0.875     Monster       Grass   \n",
       "2     100       ...        Green          1   0.875     Monster       Grass   \n",
       "3      50       ...          Red          1   0.875     Monster      Dragon   \n",
       "4      65       ...          Red          1   0.875     Monster      Dragon   \n",
       "\n",
       "   hasMegaEvolution Height_m Weight_kg Catch_Rate      Body_Style  \n",
       "0                 0     0.71       6.9         45       quadruped  \n",
       "1                 0     0.99      13.0         45       quadruped  \n",
       "2                 1     2.01     100.0         45       quadruped  \n",
       "3                 0     0.61       8.5         45  bipedal_tailed  \n",
       "4                 0     1.09      19.0         45  bipedal_tailed  \n",
       "\n",
       "[5 rows x 23 columns]"
      ]
     },
     "execution_count": 3,
     "metadata": {},
     "output_type": "execute_result"
    }
   ],
   "source": [
    "df = df * 1\n",
    "df.head()"
   ]
  },
  {
   "cell_type": "markdown",
   "metadata": {},
   "source": [
    "## Data Visualization"
   ]
  },
  {
   "cell_type": "code",
   "execution_count": 4,
   "metadata": {
    "inputHidden": false,
    "outputHidden": false
   },
   "outputs": [
    {
     "data": {
      "text/plain": [
       "Index(['Number', 'Name', 'Type_1', 'Type_2', 'Total', 'HP', 'Attack',\n",
       "       'Defense', 'Sp_Atk', 'Sp_Def', 'Speed', 'Generation', 'isLegendary',\n",
       "       'Color', 'hasGender', 'Pr_Male', 'Egg_Group_1', 'Egg_Group_2',\n",
       "       'hasMegaEvolution', 'Height_m', 'Weight_kg', 'Catch_Rate',\n",
       "       'Body_Style'],\n",
       "      dtype='object')"
      ]
     },
     "execution_count": 4,
     "metadata": {},
     "output_type": "execute_result"
    }
   ],
   "source": [
    "df.columns"
   ]
  },
  {
   "cell_type": "code",
   "execution_count": 5,
   "metadata": {
    "inputHidden": false,
    "outputHidden": false
   },
   "outputs": [],
   "source": [
    "colors_lst = ['#A8B820', '#705848', '#7038F8', '#F8D030', '#EE99AC', '#C03028', '#F08030', '#A890F0', '#705898', '#78C850', '#E0C068', \n",
    "              '#98D8D8', '#A8A878', '#A040A0', '#F85888', '#B8A038', '#B8B8D0', '#6890F0']\n",
    "colors_dct = {'Bug':'#A8B820', 'Dark':'#705848', 'Dragon':'#7038F8', 'Electric':'#F8D030', \n",
    "              'Fairy':'#EE99AC', 'Fighting':'#C03028', 'Fire':'#F08030', 'Flying':'#A890F0', \n",
    "              'Ghost':'#705898', 'Grass':'#78C850', 'Ground':'#E0C068', 'Ice':'#98D8D8', \n",
    "              'Normal':'#A8A878', 'Poison':'#A040A0', 'Pyschic':'#F85888', 'Rock':'#B8A038', \n",
    "              'Steel':'#B8B8D0', 'Water':'#6890F0'}"
   ]
  },
  {
   "cell_type": "code",
   "execution_count": 6,
   "metadata": {
    "inputHidden": false,
    "outputHidden": false
   },
   "outputs": [
    {
     "data": {
      "image/png": "[encoded data removed]",
      "text/plain": [
       "<matplotlib.figure.Figure at 0x23b821b8f28>"
      ]
     },
     "metadata": {},
     "output_type": "display_data"
    }
   ],
   "source": [
    "x = np.arange(len((df.groupby('Type_1').count() + df.groupby('Type_2').count()).index))\n",
    "y = (df.groupby('Type_1').count() + df.groupby('Type_2').count())['Number']\n",
    "\n",
    "plt.figure(figsize=(12, 8))\n",
    "plt.bar(x, y, color=colors_lst)\n",
    "plt.xticks(x, (df.groupby('Type_1').count() + df.groupby('Type_2').count()).index, rotation='vertical')\n",
    "plt.title('Number of Pokemon of each Type')\n",
    "plt.xlabel('Type')\n",
    "plt.ylabel('Count')\n",
    "plt.show()\n",
    "plt.close()"
   ]
  },
  {
   "cell_type": "code",
   "execution_count": 7,
   "metadata": {
    "inputHidden": false,
    "outputHidden": false
   },
   "outputs": [
    {
     "data": {
      "application/vnd.jupyter.widget-view+json": {
       "model_id": "eb8eee35d94140928be5e532823c7275",
       "version_major": 2,
       "version_minor": 0
      },
      "text/html": [
       "<p>Failed to display Jupyter Widget of type <code>interactive</code>.</p>\n",
       "<p>\n",
       "  If you're reading this message in the Jupyter Notebook or JupyterLab Notebook, it may mean\n",
       "  that the widgets JavaScript is still loading. If this message persists, it\n",
       "  likely means that the widgets JavaScript library is either not installed or\n",
       "  not enabled. See the <a href=\"https://ipywidgets.readthedocs.io/en/stable/user_install.html\">Jupyter\n",
       "  Widgets Documentation</a> for setup instructions.\n",
       "</p>\n",
       "<p>\n",
       "  If you're reading this message in another frontend (for example, a static\n",
       "  rendering on GitHub or <a href=\"https://nbviewer.jupyter.org/\">NBViewer</a>),\n",
       "  it may mean that your frontend doesn't currently support widgets.\n",
       "</p>\n"
      ],
      "text/plain": [
       "interactive(children=(Dropdown(description='Group', options=('Type', 'Stat'), value='Type'), Output()), _dom_classes=('widget-interact',))"
      ]
     },
     "metadata": {},
     "output_type": "display_data"
    },
    {
     "data": {
      "application/vnd.jupyter.widget-view+json": {
       "model_id": "1f63dc32067440a79b61c47ef345700d",
       "version_major": 2,
       "version_minor": 0
      },
      "text/html": [
       "<p>Failed to display Jupyter Widget of type <code>interactive</code>.</p>\n",
       "<p>\n",
       "  If you're reading this message in the Jupyter Notebook or JupyterLab Notebook, it may mean\n",
       "  that the widgets JavaScript is still loading. If this message persists, it\n",
       "  likely means that the widgets JavaScript library is either not installed or\n",
       "  not enabled. See the <a href=\"https://ipywidgets.readthedocs.io/en/stable/user_install.html\">Jupyter\n",
       "  Widgets Documentation</a> for setup instructions.\n",
       "</p>\n",
       "<p>\n",
       "  If you're reading this message in another frontend (for example, a static\n",
       "  rendering on GitHub or <a href=\"https://nbviewer.jupyter.org/\">NBViewer</a>),\n",
       "  it may mean that your frontend doesn't currently support widgets.\n",
       "</p>\n"
      ],
      "text/plain": [
       "interactive(children=(Dropdown(description='View', options=('Bug', 'Dark', 'Dragon', 'Electric', 'Fairy', 'Fighting', 'Fire', 'Flying', 'Ghost', 'Grass', 'Ground', 'Ice', 'Normal', 'Poison', 'Psychic', 'Rock', 'Steel', 'Water'), value='Bug'), Output()), _dom_classes=('widget-interact',))"
      ]
     },
     "metadata": {},
     "output_type": "display_data"
    }
   ],
   "source": [
    "import ipywidgets as widgets\n",
    "from IPython.display import display\n",
    "\n",
    "group_by = {'Type':sorted(df['Type_1'].unique()),\n",
    "            'Stat':['Total', 'HP','Attack', 'Defense', 'Sp_Atk', 'Sp_Def', 'Speed']}\n",
    "\n",
    "def select_view(Group):\n",
    "    vW.options = group_by[Group]\n",
    "    print('Choose to view types or stats.')\n",
    "    print('')\n",
    "\n",
    "def display_view(View):\n",
    "    print('Choose to view specific type or stat.')\n",
    "    print('')\n",
    "    if View in df['Type_1'].unique():\n",
    "        temp = df.loc[(df['Type_1'] == View) | (df['Type_2'] == View)]\n",
    "\n",
    "        plt.figure(figsize=(12, 8))\n",
    "        sns.boxplot(data=temp[['HP','Attack', 'Defense', 'Sp_Atk', 'Sp_Def', 'Speed']], color=colors_dct[View])\n",
    "        plt.xlabel('Stat')\n",
    "        plt.title('{} Stats'.format(View))\n",
    "    elif View in ['Total', 'HP','Attack', 'Defense', 'Sp_Atk', 'Sp_Def', 'Speed']:\n",
    "        empty = pd.DataFrame(columns=[View, 'Type'])\n",
    "        for type_ in sorted(df['Type_1'].unique()):\n",
    "            test = df[['Type_1', 'Type_2', View]].loc[(df['Type_1'] == type_) | (df['Type_2'] == type_)]\n",
    "            test['Type'] = type_\n",
    "            test = test[[View, 'Type']]\n",
    "            empty = empty.append(test)\n",
    "        empty[View] = empty[View].astype(int)\n",
    "        empty['Type'] = empty['Type'].astype(str)\n",
    "        \n",
    "        plt.figure(figsize=(12, 8))\n",
    "        sns.boxplot(x='Type', y=View, data=empty, palette=colors_lst)\n",
    "        plt.xlabel('Type')\n",
    "        plt.title('{} by Type'.format(View))\n",
    "    plt.show()\n",
    "    plt.close()\n",
    "\n",
    "gW = widgets.Dropdown(options=list(group_by.keys()))\n",
    "vW = widgets.Dropdown()\n",
    "\n",
    "i = widgets.interactive(select_view, Group=gW)\n",
    "j = widgets.interactive(display_view, View=vW)\n",
    "\n",
    "display(i)\n",
    "display(j)"
   ]
  },
  {
   "cell_type": "markdown",
   "metadata": {},
   "source": [
    "## Machine Learning"
   ]
  },
  {
   "cell_type": "markdown",
   "metadata": {},
   "source": [
    "### Predicting Legendary by Stats"
   ]
  },
  {
   "cell_type": "code",
   "execution_count": 174,
   "metadata": {},
   "outputs": [],
   "source": [
    "X_temp = df.iloc[:,4].values.reshape(-1,1)\n",
    "X = df.iloc[:,4:11].values\n",
    "y = df.iloc[:,12].values\n",
    "\n",
    "from sklearn.preprocessing import StandardScaler\n",
    "sc = StandardScaler()\n",
    "X_temp = sc.fit_transform(X_temp.astype(float))\n",
    "X = sc.transform(X.astype(float))\n",
    "y = y.astype(int)"
   ]
  },
  {
   "cell_type": "code",
   "execution_count": 175,
   "metadata": {},
   "outputs": [
    {
     "data": {
      "image/png": "[encoded data removed]",
      "text/plain": [
       "<matplotlib.figure.Figure at 0x23b833e6550>"
      ]
     },
     "metadata": {},
     "output_type": "display_data"
    }
   ],
   "source": [
    "# graph of legendary by total stat value\n",
    "plt.figure(figsize=(10,6))\n",
    "plt.scatter(X_temp, y)\n",
    "plt.show()"
   ]
  },
  {
   "cell_type": "markdown",
   "metadata": {},
   "source": [
    "#### K-Means Clustering"
   ]
  },
  {
   "cell_type": "code",
   "execution_count": 159,
   "metadata": {},
   "outputs": [],
   "source": [
    "from sklearn.cluster import KMeans\n",
    "kmeans = KMeans(n_clusters=2)"
   ]
  },
  {
   "cell_type": "code",
   "execution_count": 176,
   "metadata": {},
   "outputs": [
    {
     "data": {
      "image/png": "[encoded data removed]",
      "text/plain": [
       "<matplotlib.figure.Figure at 0x23b83462668>"
      ]
     },
     "metadata": {},
     "output_type": "display_data"
    }
   ],
   "source": [
    "clusters = kmeans.fit_predict(X_temp)\n",
    "plt.scatter(X_temp, y, c=clusters, s=50, cmap='viridis')\n",
    "plt.show()"
   ]
  },
  {
   "cell_type": "code",
   "execution_count": 161,
   "metadata": {},
   "outputs": [
    {
     "data": {
      "text/plain": [
       "0.5450762829403606"
      ]
     },
     "execution_count": 161,
     "metadata": {},
     "output_type": "execute_result"
    }
   ],
   "source": [
    "from sklearn.metrics import accuracy_score\n",
    "accuracy_score(y, clusters.astype(int))"
   ]
  },
  {
   "cell_type": "code",
   "execution_count": 177,
   "metadata": {},
   "outputs": [
    {
     "data": {
      "text/plain": [
       "0.5464632454923717"
      ]
     },
     "execution_count": 177,
     "metadata": {},
     "output_type": "execute_result"
    }
   ],
   "source": [
    "clusters = kmeans.fit_predict(X)\n",
    "accuracy_score(y, clusters.astype(int))"
   ]
  },
  {
   "cell_type": "markdown",
   "metadata": {},
   "source": [
    "Clustering does really poorly here, probably because I am not transforming the data to account for the intrinsic linear nature of the model.  Improvement could be made here."
   ]
  },
  {
   "cell_type": "markdown",
   "metadata": {},
   "source": [
    "#### Supervised Learning"
   ]
  },
  {
   "cell_type": "code",
   "execution_count": 184,
   "metadata": {},
   "outputs": [
    {
     "data": {
      "application/vnd.jupyter.widget-view+json": {
       "model_id": "91e507ed2a84446382d2415601bd4192",
       "version_major": 2,
       "version_minor": 0
      },
      "text/html": [
       "<p>Failed to display Jupyter Widget of type <code>interactive</code>.</p>\n",
       "<p>\n",
       "  If you're reading this message in the Jupyter Notebook or JupyterLab Notebook, it may mean\n",
       "  that the widgets JavaScript is still loading. If this message persists, it\n",
       "  likely means that the widgets JavaScript library is either not installed or\n",
       "  not enabled. See the <a href=\"https://ipywidgets.readthedocs.io/en/stable/user_install.html\">Jupyter\n",
       "  Widgets Documentation</a> for setup instructions.\n",
       "</p>\n",
       "<p>\n",
       "  If you're reading this message in another frontend (for example, a static\n",
       "  rendering on GitHub or <a href=\"https://nbviewer.jupyter.org/\">NBViewer</a>),\n",
       "  it may mean that your frontend doesn't currently support widgets.\n",
       "</p>\n"
      ],
      "text/plain": [
       "interactive(children=(Dropdown(description='Classifier', options=('Logistic Regression', 'Random Forest', 'K-Nearest Neighbors', 'Support Vector Machine', 'Naive Bayes'), value='Logistic Regression'), Output()), _dom_classes=('widget-interact',))"
      ]
     },
     "metadata": {},
     "output_type": "display_data"
    }
   ],
   "source": [
    "import ipywidgets as widgets\n",
    "from IPython.display import display\n",
    "\n",
    "from sklearn.model_selection import cross_val_predict\n",
    "from matplotlib.colors import ListedColormap\n",
    "from sklearn.metrics import confusion_matrix\n",
    "\n",
    "from sklearn.linear_model import LogisticRegression\n",
    "from sklearn.ensemble import RandomForestClassifier\n",
    "from sklearn.neighbors import KNeighborsClassifier\n",
    "from sklearn.svm import SVC\n",
    "from sklearn.naive_bayes import GaussianNB\n",
    "\n",
    "models = ['Logistic Regression', 'Random Forest', 'K-Nearest Neighbors', 'Support Vector Machine', 'Naive Bayes']\n",
    "\n",
    "def select_model(Classifier):\n",
    "    if Classifier == 'Logistic Regression':\n",
    "        clf = LogisticRegression()\n",
    "        \n",
    "    elif Classifier == 'Random Forest':\n",
    "        clf = RandomForestClassifier(n_estimators=50, criterion='entropy')\n",
    "    \n",
    "    elif Classifier == 'K-Nearest Neighbors':\n",
    "        clf = KNeighborsClassifier(n_neighbors=5, p=2)\n",
    "    \n",
    "    elif Classifier == 'Support Vector Machine':\n",
    "        clf = SVC(kernel='poly')\n",
    "\n",
    "    elif Classifier == 'Naive Bayes':\n",
    "        clf = GaussianNB()\n",
    "        \n",
    "    predicted = cross_val_predict(clf, X, y, cv=10)\n",
    "    print('Accuracy Score: {}'.format(accuracy_score(y, predicted)))\n",
    "    \n",
    "    mat = confusion_matrix(y, predicted)\n",
    "    sns.heatmap(mat.T, square=True, annot=True, fmt='g', cmap=ListedColormap(['white']), cbar=False, xticklabels=['Normal', 'Legendary'], yticklabels=['Normal', 'Legendary'])\n",
    "    plt.yticks(rotation=0) \n",
    "    plt.show()\n",
    "\n",
    "gW = widgets.Dropdown(options=models)\n",
    "\n",
    "i = widgets.interactive(select_model, Classifier=gW)\n",
    "\n",
    "display(i)"
   ]
  },
  {
   "cell_type": "markdown",
   "metadata": {},
   "source": [
    "We simply tried to classify legendaries by stats.  However, there are what we call \"pseudo-legendaries\", Pokemon with stats that generally match the stat total of actual legendary Pokemon, but are not legendaries: Pokemon like Salamence, Metagross, Dragonite, etc.  For example, let us see if the Support Vector Machine is misclassifying any of these Pokemon as legendary:"
   ]
  },
  {
   "cell_type": "code",
   "execution_count": 194,
   "metadata": {},
   "outputs": [
    {
     "data": {
      "text/plain": [
       "148    Dragonite\n",
       "150          Mew\n",
       "212      Shuckle\n",
       "250       Celebi\n",
       "288      Slaking\n",
       "372    Salamence\n",
       "375    Metagross\n",
       "487    Cresselia\n",
       "489      Manaphy\n",
       "634    Hydreigon\n",
       "646       Keldeo\n",
       "647     Meloetta\n",
       "648     Genesect\n",
       "705       Goodra\n",
       "Name: Name, dtype: object"
      ]
     },
     "execution_count": 194,
     "metadata": {},
     "output_type": "execute_result"
    }
   ],
   "source": [
    "clf = SVC(kernel='poly')\n",
    "predicted = cross_val_predict(clf, X, y, cv=10)\n",
    "\n",
    "pseudo = [index for index, (orig, pred) in enumerate(zip(y, predicted)) if orig == 0 and pred == 1]\n",
    "df.iloc[pseudo]['Name']"
   ]
  },
  {
   "cell_type": "markdown",
   "metadata": {},
   "source": [
    "Clearly, we see that many of the Pokemon that I suspected were misclassified indeed were."
   ]
  },
  {
   "cell_type": "code",
   "execution_count": null,
   "metadata": {},
   "outputs": [],
   "source": []
  }
 ],
 "metadata": {
  "kernel_info": {
   "name": "python3"
  },
  "kernelspec": {
   "display_name": "Python 3",
   "language": "python",
   "name": "python3"
  },
  "language_info": {
   "codemirror_mode": {
    "name": "ipython",
    "version": 3
   },
   "file_extension": ".py",
   "mimetype": "text/x-python",
   "name": "python",
   "nbconvert_exporter": "python",
   "pygments_lexer": "ipython3",
   "version": "3.6.4"
  },
  "nteract": {
   "version": "0.8.4"
  },
  "widgets": {
   "application/vnd.jupyter.widget-state+json": {
    "state": {
     "1f63dc32067440a79b61c47ef345700d": {
      "model_module": "@jupyter-widgets/controls",
      "model_module_version": "1.1.0",
      "model_name": "VBoxModel",
      "state": {
       "_dom_classes": [
        "widget-interact"
       ],
       "children": [
        "IPY_MODEL_c0883f8fea66466aa8d27adb28b4bcfc",
        "IPY_MODEL_30c903518ef641029de15a5962a41cda"
       ],
       "layout": "IPY_MODEL_6bf4aa06e3bc43768b6042575e6f1d51"
      }
     },
     "29dadd225c4345fe85bed404f92059c0": {
      "model_module": "@jupyter-widgets/base",
      "model_module_version": "1.0.0",
      "model_name": "LayoutModel",
      "state": {}
     },
     "30c903518ef641029de15a5962a41cda": {
      "model_module": "@jupyter-widgets/output",
      "model_module_version": "1.0.0",
      "model_name": "OutputModel",
      "state": {
       "layout": "IPY_MODEL_29dadd225c4345fe85bed404f92059c0",
       "outputs": [
        {
         "name": "stdout",
         "output_type": "stream",
         "text": "Choose to view specific type or stat.\n\n"
        },
        {
         "data": {
          "image/png": "iVBORw0KGgoAAAANSUhEUgAAAsMAAAHtCAYAAAD8wnOZAAAABHNCSVQICAgIfAhkiAAAAAlwSFlzAAALEgAACxIB0t1+/AAAADl0RVh0U29mdHdhcmUAbWF0cGxvdGxpYiB2ZXJzaW9uIDIuMS4yLCBodHRwOi8vbWF0cGxvdGxpYi5vcmcvNQv5yAAAIABJREFUeJzt3Xu0ZFddJ/Dv7W4ISbrBBC6MqIDo+GPShGB4NQElKPIwSBSiZOlVaUzwQaOMoiBIwIwsyAxExVbAgEGmdQKGURAEoryMCU3kNfYDNgIKOgp2OgnpTkIzSd/5o6rhpul3qm7duvvzWavXOlV17q5dvdep+tav9jl7Zn5+PgAA0KMVk+4AAABMijAMAEC3hGEAALolDAMA0C1hGACAbgnDAAB0a9WkOwCwXFTV/ZJ8NsmW4V0rk9yc5Jdba1eN8HmekeQ5GbyHr0ryoSS/0lr7clV9e5JXttaedpg2jmg/gOVOZRhgtG5prT14+O/UJK9K8sZRNV5VD0tyQZIfaK2dluRBSW5N8prhLvdNUkfQ1JHuB7CsqQwDjNfdk/x7klTVmUk2ttYeuP/tqjohyWuTrEtyQ5LtSdJae8Z+7X1zBoWME5Jc11q7raouSLK2qlYmeX2Sb6mq97TWnlBVL0xydpLjk5yY5HlJ3r5wvyRnJfm9JI9K8v+SfC7J+tba7tH/dwAsLSrDAKN1fFV9Yvjv80l+N8nLj+DvXpxBgeIBSR6X5LsPst+7klyV5J+r6mNVtTHJw5J8oLV2W5Lzknx2GITvO2zrzNbag5K8KMmF+++X5JFJzkxyWmvtIRmE4Qcdy4sHmDYqwwCjdUtr7cH7blTV45L8RVWdepi/+8EM5hbvTXJjVf1xDhBIW2v/L8lPVNWvJnlsksck+eMk703y9P32/XxV/dRw/+/MoOq8+gDPvSXJbUk+PKwUv7W1ds2RvVyA6aYyDDBGrbW/SfKZJA9PMp9kZsHDd16wfet+j912oPaq6plV9ZTW2r+11v6ktfasJKcn+dGqusd++56ewcl1d01yRZKL9nuOfX28IclpGUyhuC3Jm6vqF47qhQJMKWEYYIyq6ruS3C/Jx5PsSHKfqrpnVc0kOXfBru9Msr6qVgznD/94BuF5f3uTXFRV37rgvrVJPp/k+gxC9Z2G939vko+01i5O8sEkP5zBFS6ycL+qenIGleWrW2svTfKmDKZeACx7pkkAjNbxVfWJBbdXJHlWa+3TSVJVr0vykQxOqntHBhXjZDCveGMGUxa+nOQ/Mrgs2+201t44DMt/VVXHZRCYP53kCcOT6bYn+UpVXZPkh5I8rao+OezHO5KcXFVrMjhBb99+j0zypCRbq2p3BqH6/JH9jwAsYTPz8wcqPACwmKrq3CQ3ttb+qqpWJHlrkitaa685zJ8CcAeYJgGwNGxN8qJhVXlrkn/L4PJnAIyRyjAAAN1SGQYAoFvCMAAA3RKGAQDo1kQvrbZjxy4TlgEAGKvZ2TXfsODQPirDAAB0SxgGAKBbwjAAAN0ShgEA6JYwDABAt4RhAAC6JQwDANAtYRgAgG4JwwAAdEsYBgCgW8IwAADdEoYBAOiWMAwAQLeEYQAAuiUMAwDQLWEYWFa2bduSbdu2TLob0B3HHtNq1aQ7ADBKl19+WZJk7dpTJ9wT6Itjj2mlMgwsG9u2bcn27VuzfftWFSpYRI49ppkwDCwb+ypT+28D4+XYY5oJwwAAdEsYBpaNc84594DbwHg59phmTqADlo21a0/NKac88GvbwOJw7DHNhGFgWVGVgslw7DGtZubn5yf25Dt27JrckwMA0IXZ2TUzB3vMnGEAALolDAMA0C1hGACAbgnDAAB0SxgGAKBbwjAAAN0ShgEA6JYwDABAt4RhAAC6JQwDANAtYRgAgG4JwwAAdEsYBgCgW8IwAADdEoYBAOiWMAwAQLeEYQAAuiUMAwDQLWEYAIBuCcMAAHRLGAYAoFvCMAAA3RKGAQDoljAMAEC3hGEAALolDAMA0C1hGACAbgnDAAB0SxgGAKBbwjAAAN0ShgEA6JYwDABAt4RhAAC6JQwDANAtYRgAgG4JwwAAdEsYBgCgW8IwAADdEoYBAOiWMAwAQLeEYQAAuiUMAwDQLWEYAIBurTrUg1V1pyR/lOR+SY5L8ltJtid5Y5L5JFuTPLu1treqXpLkrCS3Jnlua+2a8XUbAADuuMNVhueS7GytfU+SJyXZmOTiJL8xvG8mydlVdXqSxyR5RJJzk/z++LoMAACjcbgw/GdJXrzg9q1JHpLkg8Pb70ryuCSPTnJFa22+tfaFJKuqanbUnQUAgFE65DSJ1truJKmqNUkuT/IbSV7ZWpsf7rIryd2S3DXJzgV/uu/+HYdq/6STTsiqVSuPrecAAHAHHTIMJ0lVfVuSP0/yB621P62q/77g4TVJbkhy43B7//sP6frrbz663gIAwFGanV1z0McOOU2iqu6V5Iokz2+t/dHw7o9X1ZnD7ScluTLJVUmeUFUrquo+SVa01q69ox0HAIBxOlxl+IVJTkry4qraN3f4l5K8uqrunOSTSS5vrd1WVVcm+VAGAfvZ4+owAACMysz8/Pzh9xqTHTt2Te7JAQDowuzsmpmDPWbRDQAAuiUMAwDQLWEYAIBuCcMAAHRLGAYAoFvCMAAA3RKGAQDoljAMAEC3hGEAALolDAMA0C1hGACAbgnDAAB0SxgGAKBbwjAAAN0ShgEA6JYwDABAt4RhAAC6JQwDANAtYRgAgG4JwwAAdEsYBgCgW8IwAADdEoYBAOiWMAwAQLeEYQAAuiUMAwDQLWEYAIBuCcMAAHRLGAYAoFvCMAAA3RKGAQDoljAMAEC3hGEAALolDAMA0C1hGACAbgnDAAB0SxgGAKBbwjAAAN0ShgEA6JYwDABAt4RhAAC6JQwDANAtYRgAgG4JwwAAdEsYBgCgW8IwAADdEoYBAOiWMAwAQLeEYQAAuiUMAwDQLWEYAIBuCcMAAHRLGAYAoFvCMAAA3RKGAQDoljAMAEC3hGEAALolDAMA0C1hGACAbgnDAAB0SxgGAKBbwjAAQOe2bduSbdu2TLobE7Fq0h0AAGCyLr/8siTJ2rWnTrgni09lGACgY9u2bcn27VuzffvWLqvDwjAAQMf2VYX33+6FMAwAQLeEYQCAjp1zzrkH3O6FE+gAADq2du2pOeWUB35tuzfCMABA53qsCO8zMz8/P7En37Fj1+SeHACALszOrpk52GPmDAMA0C1hGACAbgnDAAB0SxgGAKBbwjAAAN0ShgEA6JYwDABAt4RhAAC6JQwDANCtI1qOuaoekeSi1tqZVXV6kr9M8o/Dh1/TWntzVb0kyVlJbk3y3NbaNWPpMQAAjMhhw3BV/VqSn0xy0/Cu05Nc3Fp71YJ9Tk/ymCSPSPJtSd6a5GEj7y0AAIzQkUyT+GySpy64/ZAkZ1XV31bVG6pqTZJHJ7mitTbfWvtCklVVNTuG/gIAwMgctjLcWntrVd1vwV3XJHl9a+2jVfWiJC9JckOSnQv22ZXkbkl2HKrtk046IatWrTzqTgMAwCgc0Zzh/fx5a+2GfdtJfi/J25KsWbDPmgwC8iFdf/3Nx/D0AABw5GZn1xz0sWO5msR7qurhw+3vT/LRJFcleUJVraiq+yRZ0Vq79hjaBgCARXMsleGfT7Kxqr6a5ItJntVau7GqrkzyoQwC9rNH2EcAABiLmfn5+Yk9+Y4duyb35AAAdGF2ds3MwR6z6AYAAN0ShgEA6NaxzBkGAGCRbdp0aTZvvnosbe/evStJsnr1wa+6cKzWrTsjc3PrR97uqKgMAwB0bs+ePdmzZ8+kuzERTqADAOjchg3nJ0k2brxkwj0ZDyfQAQDAAQjDAAB0SxgGAKBbwjCwrGzbtiXbtm2ZdDcAmBIurQYsK5dfflmSZO3aUyfcEwCmgcowsGxs27Yl27dvzfbtW1WHATgiwjCwbOyrCu+/DQAHIwwDANAtYRhYNs4559wDbgPAwTiBDlg21q49Naec8sCvbQPA4QjDwLKiIgzA0RCGgWVFRRiAo2HOMABLggVTgElQGQZgSbBgCjAJKsMATJwFU4BJURlmam3adGk2b7565O3u3r0rSbJ69ZqRt50k69adkbm59WNpG6bV/gumqA4Di0VlGPazZ8+e7NmzZ9LdAAAWgcowU2tubv1YKqwbNpyfJNm48ZKRtw0c2DnnnJsLL/yNr20DLBZhGICJs2AKMCnCMABLgoowMAnCMABLgoowMAlOoAMAoFvCMAAA3RKGAQDoljAMAEC3hGEAALolDAMA0C1hGACAbgnDAAB0SxgGAKBbwjAAAN0ShgEA6NaqSXcA6NOmTZdm8+arR97u7t27kiSrV68Zedvr1p2Rubn1I28XgMlRGQaWlT179mTPnj2T7gYAU0JlGJiIubn1Y6mybthwfpJk48ZLRt42AMuPyjAAAN0ShgEA6JYwDABAt4RhAAC6JQwDANAtYRgAgG65tBoAR2UaF0xJLJoCHJjKMABLggVTgElQGQbgqFgwBVhOVIYBAOiWMAwAQLeEYQAAuiUMAwDQLWEYAIBuCcMAAHRLGAYAoFvCMAAA3RKGAQDoljAMAEC3hGEAALolDAMA0C1hGACAbgnDAAB0a9WkOwAALJ5Nmy7N5s1Xj7zd3bt3JUlWr14z8rbXrTsjc3PrR94uJCrDAMAI7NmzJ3v27Jl0N+CoqQwDQEfm5taPpcq6YcP5SZKNGy8ZedswTirDAAB0SxgGAKBbwjAAAN0ShgEA6JYwDABAt4RhAAC6JQwDANAtYRgAgG4JwwAAdEsYBgCgW8IwAADdEoYBAOjWqiPZqaoekeSi1tqZVfWdSd6YZD7J1iTPbq3traqXJDkrya1Jnttau2ZMfQYAgJE4bGW4qn4tyeuT3GV418VJfqO19j1JZpKcXVWnJ3lMkkckOTfJ74+nuwAAMDpHMk3is0meuuD2Q5J8cLj9riSPS/LoJFe01uZba19IsqqqZkfaUwAAGLHDTpNorb21qu634K6Z1tr8cHtXkrsluWuSnQv22Xf/jkO1fdJJJ2TVqpVH1WEYtxUrZpIks7NrJtwTjoXxm17GbroZv+nW8/gd0Zzh/exdsL0myQ1Jbhxu73//IV1//c3H8PQwXnv3Dr7r7dixa8I94VgYv+ll7Kab8Ztuy338DhXyj+VqEh+vqjOH209KcmWSq5I8oapWVNV9kqxorV17DG0DAMCiOZbK8K8kuaSq7pzkk0kub63dVlVXJvlQBgH72SPsIwAAjMURheHW2j8nWTfc/nQGV47Yf5+XJnnp6LoGAADjZdENAAC6JQwDANAtYRgAgG4JwwAAdEsYBgCgW8IwAADdEoYBAOiWMAwAQLeEYQAAuiUMAwDQLWEYAIBurZp0B1j+LrjgBbnuup2T7sYR27nz2iTJhg3nT7gnR+fkk++eCy98xaS7AQBTRRhm7K67bmeuvfZLOf7E+Ul35YisWDmTJLnpli9OuCdH7pabZibdBQCYSsIwi+L4E+fzlHN3T7oby9bbL1s96S4AwFQyZxgAgG4JwwAAdEsYBgCgW8IwAADd6voEuk2bLs3mzVePpe3du3clSVavXjPyttetOyNzc+tH3i4AQG+6DsPjtGfPniTjCcOwWKbtGtHJdF4n2jWiASan6zA8N7d+bBXWfR/EGzdeMpb2YTFM2zWik+m7TrRrRMPyo5CwOEZVSOg6DAOH5xrR4+Ua0bD8KCSM3ygLCcIwAMCIKSSM1ygLCa4mAQBAt4RhAAC6JQwDANAtYRgAgG4JwwAAdEsYBgCgWy6tBgBLjEUbFo8VIBGGAWCJsWjD4rACJIkwDABLkkUbxs8KkCTmDAMA0DFhGACAbgnDAAB0SxgGAKBbwjAAAN0ShgEA6JYwDABAt4RhAAC6JQwDANAtYRgAgG4JwwAAdEsYBgCgW8IwAADdEoYBAOjWqkl34EhccMELct11OyfdjaOyc+e1SZING86fcE+O3Mkn3z0XXviKSXcDAGDRTEUYvu66nbn22i/l+BPnJ92VI7Zi5UyS5KZbvjjhnhyZW26amXQXAAAW3VSE4SQ5/sT5POXc3ZPuxrL19stWT7oLwIhN269q0/iLWuJXNZh2UxOGATg60/ar2rT9opb4VQ2WA2EYYBnzq9p4+VUNpp+rSQAA0C1hGACAbgnDAAB0SxgGAKBbwjAAAN1yNQnGbvfu3fnKV2acdT1Gt9w0k/nbXDEAAI6WyjAAAN1SGWbsVq9enZmVu13rdIzeftnqnHi8yjsAHC2VYQAAuiUMAwDQLWEYAIBuCcMAAHRLGAYAoFvCMAAA3ZqKS6tZtGH8LNoAAPRoKsIwAMC0UMQbv1EW8aYiDFu0Yfws2gAA9GgqwjAwGaob42eKEiw/injjN8oinhPoAADolsowcFCqG+NnihLAZAnDALDEmKK0OExTIjFNAgCAjqkMA8ASY4rS4jBNiURlGACAjgnDAAB0SxgGAKBbwjAAAN065hPoqurjSb48vPlPSV6X5HeT3Jrkitbab97x7gEAwPgcUxiuqrskSWvtzAX3fSLJ05J8Lsk7q+r01trHRtFJAAAYh2OtDJ+W5ISqumLYxkuTHNda+2ySVNV7knx/EmEYptwtN03Xhf+/umcmSXLn4+Yn3JMjc8tNMznx+PG0beGG8bNoA0y/Yw3DNyd5ZZLXJ/nPSd6V5IYFj+9Kcv/DNXLSSSdk1aqVh32yFStmjq2XHJUVK2YyO7tmLO0yfuMYv3vd655TN347bt6RJFlz4uyEe3Jk1pyYzM7OjuXYm5muoZtaMzMZ+fhN23E3zcbx3mn8Fseoxu5Yw/Cnk3ymtTaf5NNV9eUkJy94fE1uH44P6Prrbz6iJ9u7dzoqPNNu79757NixayztMn7jGL8Xv/hlI21vMWzYcH6S5NWv/sMJ9+TojOPYO/HE1ckKCzeM075FG0Y9ft43F8843juN3+I4mrE7VGg+1qtJPDPJq5Kkqu6d5IQkN1XVd1TVTJInJLnyGNsGAIBFcayV4TckeWNV/V2S+QzC8d4kf5JkZQZXk/jwaLoIAADjcUxhuLX21SQ/foCH1t2x7gAAwOKx6AYAAN0ShgEA6JYwDABAt455OebF5sL/4zXOC//va39axm/axi4Z//gBwHI1FWH45JPvPukuHLWv3HxtkuTE4+8x4Z4cmROPH9//87SN37SNXTLe8QOA5WwqwvCFF75i0l04avsu/L9x4yUT7snkTdv4GTsA6Ic5wwAAdGsqKsMA0JtpOtcicb4F00sYBoAlZhrPAXC+BdNKGAaAJWbazrVInG/B9DJnGACAbgnDAAB0SxgGAKBbwjAAAN0ShgEA6JYwDABAt4RhAAC65TrDAAAjZgXB8Rrl6oHCMADACE3jqnbTtoLgKFcPFIYBAEbICoLTxZxhAAC6JQwDANAtYRgAgG4JwwAAdEsYBgCgW8IwAADdEoYBAOiW6wwDLGPTtArWtK2AlYx2FSxgMoRhgGVq2lbBmrYVsJLRroIFTIYwDEzEpk2XZvPmq0fe7s6dg0C1bzWlUVq37ozMza0febvjMm2rYPW8AhYwOcIwsKwcd9xxk+4CAFNEGAYmYm5u/VRVWQFYnlxNAgCAbgnDAAB0SxgGAKBbwjAAAN0ShgEA6JYwDABAt4RhAAC6JQwDANAtYRgAgG4JwwAAdEsYBgCgW8IwAADdEoYBAOiWMAwAQLdWTboDk7Rp06XZvPnqsbS9c+e1SZING84fedvr1p2Rubn1I28XgOVvXJ99PveYVl2H4XE67rjjJt0FAFg0PveYVl2H4bm59b5pAtAVn31we+YMAwDQLWEYAIBuCcMAAHRLGAYAoFvCMAAA3RKGAQDoljAMAEC3hGEAALolDAMA0C1hGACAbgnDAAB0SxgGAKBbwjAAAN0ShgEA6NaqSXcAjtWmTZdm8+arR97uzp3XJkk2bDh/5G0nybp1Z2Rubv1Y2obF4NgDlhNhGPZz3HHHTboL0CXHHjAJM/Pz8xN78h07dk3uyQEASPL1X2Q2brxkwj0Zj9nZNTMHe8ycYQAAuiUMAwDQLWEYAIBuCcMAAHRLGAYAoFvCMAAA3XJpNQCAKTCuBW+Sry96c/e732PkbS+FBW8OdWk1i24AAHSu50VvVIYBAFjWLLoBAAAHIAyPybZtW7Jt25ZJdwMAgEMwZ3hMLr/8siTJ2rWnTrgnAAAcjMrwGGzbtiXbt2/N9u1bVYcBAJawkVaGq2pFkj9IclqSPUnOa619ZpTPMQ32VYX3basOAwAsTaOuDP9wkru01h6Z5AVJXjXi9gEAYGRGHYYfneTdSdJa25zkoSNufyqcc865B9wGAGBpGfUJdHdN8uUFt2+rqlWttVsPtPNJJ52QVatWjrgLk3fmmWfkbW877WvbAAAsTaMOwzcmWbPg9oqDBeEkuf76m0f89EvH2Wf/aJJkx45dE+4JAEDfZmfXHPSxUYfhq5L8UJK3VNW6JN1eSsFJcwAAS9+ow/CfJ/mBqro6yUyS9SNuHwAARmZmfn5+Yk++Y8euyT05AABdmJ1dM3Owxyy6AQBAt4RhAAC6JQwDANAtYRgAgG4JwwAAdEsYBgCgW8IwAADdEoYBAOiWMAwAQLeEYQAAuiUMAwDQLWEYAIBuCcMAAHRrZn5+ftJ9AACAiVAZBgCgW8IwAADdEoYBAOiWMAwAQLeEYQAAuiUMAwDQrVWT7sC0q6ozk/xca+3cBfe9Ismnkrw6yceSzCe5S5L3t9ZeOIl+klTV85M8N8m3t9a+UlWnJjmptfa3VfW9SW5orf3DUbT3jCQPaK29YDw97s/weHpLku1JZpLcKcnvtNbecpD9H57k0iRvb639+mL1k8OrqhckeVySvRm8B76wtfbRY2jn7UlmWms/tOC+H0ny4SR3TnJZa23daHpNcsfHrqpemuTHk/xbkpVJbkny/Nbaxw/xN7+Q5FlJXt5ae/Ox9559RnUMHuY5vtha+0+jbHMSVIbHa3tr7czW2mOTPCrJY6vqQZPuVMd+IsllSfZ9cXlaklOG289Mcu9JdIpv8L7hcfOYJI9P8vyqevBB9n18ktcKwktLVZ2S5ClJfqC19vgkz0/yR8fQzrclWZ3kpKq6/4KHfinJXUfRV25vVGOX5OLhcfw9SX4xyf+qqrscYv+nJvlJQXg0RjiOXVAZXjzHJzkuyc2T7kiPhhXHzyZ5bZJNVfXXSZ6R5KtV9fEkT0xyelVtz+AN5KkZVCW/PNxemUEF8r7D+5+zoO3ZJH+R5ILW2nsX6SV1obW2u6pel+Scqnp6ku/N4Ev8xUk+n+S8DMbwX5Ncl+RlSW7LYKx/NoMvQD+Y5IQk35HkotbaG4dVqJ/OoGLyd621Xx0Grz/M4FecryR5VmvtXxbv1S4r/5HkPkmeWVXvbq19oqoeXlUfyOBXswdkUPl/emvti4do52eSvC2DyuIvJHleVZ2V5MFJ3pRkLkmqamWSNybZ2lq7aDwvqRujGruvaa19qqo+luTRVfX3Sd6Q5O7Dh38xySOTPDTJG6rq6a21fxrtS+rSUY1jVb08C95fW2t/Nvz19NXD/XZmUDTancH75NoM3mePW+TXNRYqw6PxfVX1gX3/Mvh5KElOGd73/gze0H+3tfaZifWyb+cleX1rrSXZk+RbM/jwvLi19uEk707ya0n+NYM36ccNKxp3SvKwJD+X5J9ba4/MIEQ/YtjuvZK8PckvC8Jj86UkP5rB9JZHJXlskhcl+XSGY5jBl5FLkjx1WFH+vxmMU5LcrbX25Ay+5Oyb0rI+yS8Nx/NzVbUqySuTvHr4S84rk7xi/C9teWqtXZvB//ejknyoqj6V5MnDh69urZ2Z5M1JDjptrKpWZPBe+j8z+EXn6VV1fGvtnUk+keSnknw1g6LOnyT5kCB8x41i7A7iS0nuMfy79w6Ps2cleU1r7Q8zHFNBeDSOZhyr6knZ7/21qr4pg/fUZw/3/asMPiOflOQuw6lJv55BoWHqqQyPxvsOMGc4GU6TmEyX2KeqTsqgOnjPqnpOkrsl2ZDBt9rbaa3traqvZvCT3u4MQvOdklSSdw332Zpk63DO8BOT/Ht8sRyn+2YQdn5y+GUzGYzJfRfsM5vkm5O8paqSwS8xV2Qwxp8Y7vMvGVR9k0EYfl5VXZTkQxlUPk7N4IPh+cPbXx3T61n2quo7k9zYWnvm8PZDM/gw/WKS9w13uzrJ2Ydo5glJ1iT50+HtfeH4Dfvtd1qSGzOYTsEdNKKxO5D7JnlrBl9ivm/4S0+SnHSHO803OMpx/NckDznA++t/SfIHw/fUO2VQgFib5Jokaa19oaqWxa9nPsDpwVySN7TWHt9ae2IGVd3HZ3BCwb5jYG+SFcM53T/cWnt6BlMhVmQQjD6ZQYU4VXX/qtr3Af3Hw/ZfX1UnLtYL6kVVrUlyfgbTVd4//HL5fRmcZPe5Bbtem8Eb+tnDfV6W5P3Dx+YP0PT5GZz4+pgk353kjAx+Onz+8O9/NsnlI345PXlQktcsmCP66QzG8LYkDxne96gk2w7RxnlJzmutPXF43P5YkmcPH9ubrx+7H01yVgZflpyTcceNYuxup6oemMH5GZszOM5+e3ic/VgGX3QZvaMZx0/lwO+vLYNq/ZkZVIXfOdz3kUlSVfdO8i2L8FrGThimB+dl8FNrkqS1dnMGFYpbk2yoqsdmcGb6KzJ4o7ipqj6S5K8zqPreO8nrkty/qj6YwVzFixe0tz3JpiS/vSivZvnbN+3ovUnekeQlGcxb211VV2YQfuZba7v2/UFrbW8GJ1W9s6quzmB+6dZDPMeWJH9fVe/LYG7dh5M8L8lLFozxEV9ZhNtrrf3vJB9I8uGquirJe5L8agYfxs8Y/h+flcGXlm9QVffM4Evrexa0eVWSu1TVGRlUtN6U5OThY7dkMJXpTVW1LOYwTsodHbsFfnnBcfzKJOe01m4d/t2PDauQ786hj1OO0VGO41/mwO+vP5/BMXVlBp+P/9Bae1uSf6mqDyf5nQwKEVNvZn7+QEUTABitYQD6udbapybdF46OsVsejOOBmTMMwERU1Z0zmNu9v9Za+9nF7g9HztixnKgMAwDQLXOGAQDtjyPiAAABzElEQVToljAMAEC3hGEAALrlBDqAJaSqzslgZadVGRQs3tRa+x9V9ZtJ/qa1duUh/vbJSb6rtXbxwfYB4PZUhgGWiKr6liSvSvL41tppGVzc/tyqekqSxyRZeZgmHprkruPtJcDyojIMsHTcI4NlT09IsrO1truqfjrJUzMIuq+vqh/JYLGJlw33+6Yk/zXJP2aw8ESq6vOttUsn0H+AqaMyDLBEtNb+T5K3JflcVV1TVRclWdlauzDJRzJYnnhLBkuFn9daOz2DFRZ/a7gS4muTvFYQBjhywjDAEtJa+/kk90vymiT3TbK5qp66325zSR5YVS9O8itJVi9qJwGWEdMkAJaIqjoryerW2puTXJrk0qo6P8nP7LfrlUnen+QDSd6b5E8Xs58Ay4nKMMDScXOSl1fV/ZKkqmaSPDjJx5PcmmRVVZ2c5LuSXJDkXUnOztdPrLs1ihwAR0UYBlgiWmvvT/KbSd5RVS3Jp5LcluS/JXl3BnOCH5DkDUm2JflkkjVJTqiqE5P8bZKfqKrnTKD7AFNpZn5+ftJ9AACAiVAZBgCgW8IwAADdEoYBAOiWMAwAQLeEYQAAuiUMAwDQLWEYAIBuCcMAAHTr/wNt/tFyhBgFyQAAAABJRU5ErkJggg==\n",
          "text/plain": "<matplotlib.figure.Figure at 0x23b827782b0>"
         },
         "metadata": {},
         "output_type": "display_data"
        }
       ]
      }
     },
     "3d13b038f8134c1d8f3f806be9bbe05c": {
      "model_module": "@jupyter-widgets/controls",
      "model_module_version": "1.1.0",
      "model_name": "DescriptionStyleModel",
      "state": {
       "description_width": ""
      }
     },
     "5ffa30a7e5344770ae63011c05011636": {
      "model_module": "@jupyter-widgets/base",
      "model_module_version": "1.0.0",
      "model_name": "LayoutModel",
      "state": {}
     },
     "6bf4aa06e3bc43768b6042575e6f1d51": {
      "model_module": "@jupyter-widgets/base",
      "model_module_version": "1.0.0",
      "model_name": "LayoutModel",
      "state": {}
     },
     "72239ff9010a4143b06419be6b02950f": {
      "model_module": "@jupyter-widgets/output",
      "model_module_version": "1.0.0",
      "model_name": "OutputModel",
      "state": {
       "layout": "IPY_MODEL_a3f43445a3e44507a4897fb66f3f7ee7",
       "outputs": [
        {
         "name": "stdout",
         "output_type": "stream",
         "text": "Choose to view types or stats.\n\n"
        }
       ]
      }
     },
     "8a62f4b1e7a84365b614365dd900bfce": {
      "model_module": "@jupyter-widgets/base",
      "model_module_version": "1.0.0",
      "model_name": "LayoutModel",
      "state": {}
     },
     "a3f43445a3e44507a4897fb66f3f7ee7": {
      "model_module": "@jupyter-widgets/base",
      "model_module_version": "1.0.0",
      "model_name": "LayoutModel",
      "state": {}
     },
     "aca0ccc0a0c04b0faf3e70a5d2fefaed": {
      "model_module": "@jupyter-widgets/base",
      "model_module_version": "1.0.0",
      "model_name": "LayoutModel",
      "state": {}
     },
     "c0883f8fea66466aa8d27adb28b4bcfc": {
      "model_module": "@jupyter-widgets/controls",
      "model_module_version": "1.1.0",
      "model_name": "DropdownModel",
      "state": {
       "_options_labels": [
        "Bug",
        "Dark",
        "Dragon",
        "Electric",
        "Fairy",
        "Fighting",
        "Fire",
        "Flying",
        "Ghost",
        "Grass",
        "Ground",
        "Ice",
        "Normal",
        "Poison",
        "Psychic",
        "Rock",
        "Steel",
        "Water"
       ],
       "description": "View",
       "index": 0,
       "layout": "IPY_MODEL_8a62f4b1e7a84365b614365dd900bfce",
       "style": "IPY_MODEL_3d13b038f8134c1d8f3f806be9bbe05c"
      }
     },
     "d16538f442de4a96bcb1e04188bf74a9": {
      "model_module": "@jupyter-widgets/controls",
      "model_module_version": "1.1.0",
      "model_name": "DescriptionStyleModel",
      "state": {
       "description_width": ""
      }
     },
     "eb8eee35d94140928be5e532823c7275": {
      "model_module": "@jupyter-widgets/controls",
      "model_module_version": "1.1.0",
      "model_name": "VBoxModel",
      "state": {
       "_dom_classes": [
        "widget-interact"
       ],
       "children": [
        "IPY_MODEL_f8f47a76208047ac923042849e5c5054",
        "IPY_MODEL_72239ff9010a4143b06419be6b02950f"
       ],
       "layout": "IPY_MODEL_5ffa30a7e5344770ae63011c05011636"
      }
     },
     "f8f47a76208047ac923042849e5c5054": {
      "model_module": "@jupyter-widgets/controls",
      "model_module_version": "1.1.0",
      "model_name": "DropdownModel",
      "state": {
       "_options_labels": [
        "Type",
        "Stat"
       ],
       "description": "Group",
       "index": 0,
       "layout": "IPY_MODEL_aca0ccc0a0c04b0faf3e70a5d2fefaed",
       "style": "IPY_MODEL_d16538f442de4a96bcb1e04188bf74a9"
      }
     }
    },
    "version_major": 2,
    "version_minor": 0
   }
  }
 },
 "nbformat": 4,
 "nbformat_minor": 4
}
