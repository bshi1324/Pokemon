{
 "cells": [
  {
   "cell_type": "raw",
   "metadata": {},
   "source": [
    "<script>\n",
    "  function code_toggle() {\n",
    "    if (code_shown){\n",
    "      $('div.input').hide('500');\n",
    "      $('#toggleButton').val('Show Code')\n",
    "    } else {\n",
    "      $('div.input').show('500');\n",
    "      $('#toggleButton').val('Hide Code')\n",
    "    }\n",
    "    code_shown = !code_shown\n",
    "  }\n",
    "\n",
    "  $( document ).ready(function(){\n",
    "    code_shown=false;\n",
    "    $('div.input').hide()\n",
    "  });\n",
    "</script>\n",
    "<form action=\"javascript:code_toggle()\"><input type=\"submit\" id=\"toggleButton\" value=\"Show Code\"></form>"
   ]
  },
  {
   "cell_type": "code",
   "execution_count": 9,
   "metadata": {
    "inputHidden": false,
    "outputHidden": false
   },
   "outputs": [],
   "source": [
    "import matplotlib.pyplot as plt\n",
    "import numpy as np\n",
    "import pandas as pd\n",
    "import seaborn as sns; sns.set()"
   ]
  },
  {
   "cell_type": "code",
   "execution_count": 2,
   "metadata": {
    "inputHidden": false,
    "outputHidden": false
   },
   "outputs": [],
   "source": [
    "df = pd.read_csv('D:/Data/Pokemon/pokemon_alopez247.csv')"
   ]
  },
  {
   "cell_type": "code",
   "execution_count": 3,
   "metadata": {
    "inputHidden": false,
    "outputHidden": false
   },
   "outputs": [
    {
     "data": {
      "text/html": [
       "<div>\n",
       "<style scoped>\n",
       "    .dataframe tbody tr th:only-of-type {\n",
       "        vertical-align: middle;\n",
       "    }\n",
       "\n",
       "    .dataframe tbody tr th {\n",
       "        vertical-align: top;\n",
       "    }\n",
       "\n",
       "    .dataframe thead th {\n",
       "        text-align: right;\n",
       "    }\n",
       "</style>\n",
       "<table border=\"1\" class=\"dataframe\">\n",
       "  <thead>\n",
       "    <tr style=\"text-align: right;\">\n",
       "      <th></th>\n",
       "      <th>Number</th>\n",
       "      <th>Name</th>\n",
       "      <th>Type_1</th>\n",
       "      <th>Type_2</th>\n",
       "      <th>Total</th>\n",
       "      <th>HP</th>\n",
       "      <th>Attack</th>\n",
       "      <th>Defense</th>\n",
       "      <th>Sp_Atk</th>\n",
       "      <th>Sp_Def</th>\n",
       "      <th>...</th>\n",
       "      <th>Color</th>\n",
       "      <th>hasGender</th>\n",
       "      <th>Pr_Male</th>\n",
       "      <th>Egg_Group_1</th>\n",
       "      <th>Egg_Group_2</th>\n",
       "      <th>hasMegaEvolution</th>\n",
       "      <th>Height_m</th>\n",
       "      <th>Weight_kg</th>\n",
       "      <th>Catch_Rate</th>\n",
       "      <th>Body_Style</th>\n",
       "    </tr>\n",
       "  </thead>\n",
       "  <tbody>\n",
       "    <tr>\n",
       "      <th>0</th>\n",
       "      <td>1</td>\n",
       "      <td>Bulbasaur</td>\n",
       "      <td>Grass</td>\n",
       "      <td>Poison</td>\n",
       "      <td>318</td>\n",
       "      <td>45</td>\n",
       "      <td>49</td>\n",
       "      <td>49</td>\n",
       "      <td>65</td>\n",
       "      <td>65</td>\n",
       "      <td>...</td>\n",
       "      <td>Green</td>\n",
       "      <td>1</td>\n",
       "      <td>0.875</td>\n",
       "      <td>Monster</td>\n",
       "      <td>Grass</td>\n",
       "      <td>0</td>\n",
       "      <td>0.71</td>\n",
       "      <td>6.9</td>\n",
       "      <td>45</td>\n",
       "      <td>quadruped</td>\n",
       "    </tr>\n",
       "    <tr>\n",
       "      <th>1</th>\n",
       "      <td>2</td>\n",
       "      <td>Ivysaur</td>\n",
       "      <td>Grass</td>\n",
       "      <td>Poison</td>\n",
       "      <td>405</td>\n",
       "      <td>60</td>\n",
       "      <td>62</td>\n",
       "      <td>63</td>\n",
       "      <td>80</td>\n",
       "      <td>80</td>\n",
       "      <td>...</td>\n",
       "      <td>Green</td>\n",
       "      <td>1</td>\n",
       "      <td>0.875</td>\n",
       "      <td>Monster</td>\n",
       "      <td>Grass</td>\n",
       "      <td>0</td>\n",
       "      <td>0.99</td>\n",
       "      <td>13.0</td>\n",
       "      <td>45</td>\n",
       "      <td>quadruped</td>\n",
       "    </tr>\n",
       "    <tr>\n",
       "      <th>2</th>\n",
       "      <td>3</td>\n",
       "      <td>Venusaur</td>\n",
       "      <td>Grass</td>\n",
       "      <td>Poison</td>\n",
       "      <td>525</td>\n",
       "      <td>80</td>\n",
       "      <td>82</td>\n",
       "      <td>83</td>\n",
       "      <td>100</td>\n",
       "      <td>100</td>\n",
       "      <td>...</td>\n",
       "      <td>Green</td>\n",
       "      <td>1</td>\n",
       "      <td>0.875</td>\n",
       "      <td>Monster</td>\n",
       "      <td>Grass</td>\n",
       "      <td>1</td>\n",
       "      <td>2.01</td>\n",
       "      <td>100.0</td>\n",
       "      <td>45</td>\n",
       "      <td>quadruped</td>\n",
       "    </tr>\n",
       "    <tr>\n",
       "      <th>3</th>\n",
       "      <td>4</td>\n",
       "      <td>Charmander</td>\n",
       "      <td>Fire</td>\n",
       "      <td>NaN</td>\n",
       "      <td>309</td>\n",
       "      <td>39</td>\n",
       "      <td>52</td>\n",
       "      <td>43</td>\n",
       "      <td>60</td>\n",
       "      <td>50</td>\n",
       "      <td>...</td>\n",
       "      <td>Red</td>\n",
       "      <td>1</td>\n",
       "      <td>0.875</td>\n",
       "      <td>Monster</td>\n",
       "      <td>Dragon</td>\n",
       "      <td>0</td>\n",
       "      <td>0.61</td>\n",
       "      <td>8.5</td>\n",
       "      <td>45</td>\n",
       "      <td>bipedal_tailed</td>\n",
       "    </tr>\n",
       "    <tr>\n",
       "      <th>4</th>\n",
       "      <td>5</td>\n",
       "      <td>Charmeleon</td>\n",
       "      <td>Fire</td>\n",
       "      <td>NaN</td>\n",
       "      <td>405</td>\n",
       "      <td>58</td>\n",
       "      <td>64</td>\n",
       "      <td>58</td>\n",
       "      <td>80</td>\n",
       "      <td>65</td>\n",
       "      <td>...</td>\n",
       "      <td>Red</td>\n",
       "      <td>1</td>\n",
       "      <td>0.875</td>\n",
       "      <td>Monster</td>\n",
       "      <td>Dragon</td>\n",
       "      <td>0</td>\n",
       "      <td>1.09</td>\n",
       "      <td>19.0</td>\n",
       "      <td>45</td>\n",
       "      <td>bipedal_tailed</td>\n",
       "    </tr>\n",
       "  </tbody>\n",
       "</table>\n",
       "<p>5 rows × 23 columns</p>\n",
       "</div>"
      ],
      "text/plain": [
       "   Number        Name Type_1  Type_2  Total  HP  Attack  Defense  Sp_Atk  \\\n",
       "0       1   Bulbasaur  Grass  Poison    318  45      49       49      65   \n",
       "1       2     Ivysaur  Grass  Poison    405  60      62       63      80   \n",
       "2       3    Venusaur  Grass  Poison    525  80      82       83     100   \n",
       "3       4  Charmander   Fire     NaN    309  39      52       43      60   \n",
       "4       5  Charmeleon   Fire     NaN    405  58      64       58      80   \n",
       "\n",
       "   Sp_Def       ...        Color  hasGender Pr_Male Egg_Group_1 Egg_Group_2  \\\n",
       "0      65       ...        Green          1   0.875     Monster       Grass   \n",
       "1      80       ...        Green          1   0.875     Monster       Grass   \n",
       "2     100       ...        Green          1   0.875     Monster       Grass   \n",
       "3      50       ...          Red          1   0.875     Monster      Dragon   \n",
       "4      65       ...          Red          1   0.875     Monster      Dragon   \n",
       "\n",
       "   hasMegaEvolution Height_m Weight_kg Catch_Rate      Body_Style  \n",
       "0                 0     0.71       6.9         45       quadruped  \n",
       "1                 0     0.99      13.0         45       quadruped  \n",
       "2                 1     2.01     100.0         45       quadruped  \n",
       "3                 0     0.61       8.5         45  bipedal_tailed  \n",
       "4                 0     1.09      19.0         45  bipedal_tailed  \n",
       "\n",
       "[5 rows x 23 columns]"
      ]
     },
     "execution_count": 3,
     "metadata": {},
     "output_type": "execute_result"
    }
   ],
   "source": [
    "df = df * 1\n",
    "df.head()"
   ]
  },
  {
   "cell_type": "code",
   "execution_count": 4,
   "metadata": {
    "inputHidden": false,
    "outputHidden": false
   },
   "outputs": [
    {
     "data": {
      "text/plain": [
       "Index(['Number', 'Name', 'Type_1', 'Type_2', 'Total', 'HP', 'Attack',\n",
       "       'Defense', 'Sp_Atk', 'Sp_Def', 'Speed', 'Generation', 'isLegendary',\n",
       "       'Color', 'hasGender', 'Pr_Male', 'Egg_Group_1', 'Egg_Group_2',\n",
       "       'hasMegaEvolution', 'Height_m', 'Weight_kg', 'Catch_Rate',\n",
       "       'Body_Style'],\n",
       "      dtype='object')"
      ]
     },
     "execution_count": 4,
     "metadata": {},
     "output_type": "execute_result"
    }
   ],
   "source": [
    "df.columns"
   ]
  },
  {
   "cell_type": "code",
   "execution_count": 5,
   "metadata": {
    "inputHidden": false,
    "outputHidden": false
   },
   "outputs": [],
   "source": [
    "colors_lst = ['#A8B820', '#705848', '#7038F8', '#F8D030', '#EE99AC', '#C03028', '#F08030', '#A890F0', '#705898', '#78C850', '#E0C068', \n",
    "              '#98D8D8', '#A8A878', '#A040A0', '#F85888', '#B8A038', '#B8B8D0', '#6890F0']\n",
    "colors_dct = {'Bug':'#A8B820', 'Dark':'#705848', 'Dragon':'#7038F8', 'Electric':'#F8D030', \n",
    "              'Fairy':'#EE99AC', 'Fighting':'#C03028', 'Fire':'#F08030', 'Flying':'#A890F0', \n",
    "              'Ghost':'#705898', 'Grass':'#78C850', 'Ground':'#E0C068', 'Ice':'#98D8D8', \n",
    "              'Normal':'#A8A878', 'Poison':'#A040A0', 'Pyschic':'#F85888', 'Rock':'#B8A038', \n",
    "              'Steel':'#B8B8D0', 'Water':'#6890F0'}"
   ]
  },
  {
   "cell_type": "code",
   "execution_count": 13,
   "metadata": {
    "inputHidden": false,
    "outputHidden": false
   },
   "outputs": [
    {
     "data": {
      "image/png": "[encoded data removed]",
      "text/plain": [
       "<matplotlib.figure.Figure at 0x29cc7841780>"
      ]
     },
     "metadata": {},
     "output_type": "display_data"
    }
   ],
   "source": [
    "x = np.arange(len((df.groupby('Type_1').count() + df.groupby('Type_2').count()).index))\n",
    "y = (df.groupby('Type_1').count() + df.groupby('Type_2').count())['Number']\n",
    "\n",
    "plt.figure(figsize=(12, 8))\n",
    "plt.bar(x, y, color=colors_lst)\n",
    "plt.xticks(x, (df.groupby('Type_1').count() + df.groupby('Type_2').count()).index, rotation='vertical')\n",
    "plt.title('Number of Pokemon of each Type')\n",
    "plt.xlabel('Type')\n",
    "plt.ylabel('Count')\n",
    "plt.show()\n",
    "plt.close()"
   ]
  },
  {
   "cell_type": "code",
   "execution_count": 15,
   "metadata": {
    "inputHidden": false,
    "outputHidden": false
   },
   "outputs": [
    {
     "data": {
      "application/vnd.jupyter.widget-view+json": {
       "model_id": "9fe579b99cf243c088f2dade91b4e370",
       "version_major": 2,
       "version_minor": 0
      },
      "text/html": [
       "<p>Failed to display Jupyter Widget of type <code>interactive</code>.</p>\n",
       "<p>\n",
       "  If you're reading this message in the Jupyter Notebook or JupyterLab Notebook, it may mean\n",
       "  that the widgets JavaScript is still loading. If this message persists, it\n",
       "  likely means that the widgets JavaScript library is either not installed or\n",
       "  not enabled. See the <a href=\"https://ipywidgets.readthedocs.io/en/stable/user_install.html\">Jupyter\n",
       "  Widgets Documentation</a> for setup instructions.\n",
       "</p>\n",
       "<p>\n",
       "  If you're reading this message in another frontend (for example, a static\n",
       "  rendering on GitHub or <a href=\"https://nbviewer.jupyter.org/\">NBViewer</a>),\n",
       "  it may mean that your frontend doesn't currently support widgets.\n",
       "</p>\n"
      ],
      "text/plain": [
       "interactive(children=(Dropdown(description='Group', options=('Type', 'Stat'), value='Type'), Output()), _dom_classes=('widget-interact',))"
      ]
     },
     "metadata": {},
     "output_type": "display_data"
    },
    {
     "data": {
      "application/vnd.jupyter.widget-view+json": {
       "model_id": "723cf84b941f4528b89683c652e89e7a",
       "version_major": 2,
       "version_minor": 0
      },
      "text/html": [
       "<p>Failed to display Jupyter Widget of type <code>interactive</code>.</p>\n",
       "<p>\n",
       "  If you're reading this message in the Jupyter Notebook or JupyterLab Notebook, it may mean\n",
       "  that the widgets JavaScript is still loading. If this message persists, it\n",
       "  likely means that the widgets JavaScript library is either not installed or\n",
       "  not enabled. See the <a href=\"https://ipywidgets.readthedocs.io/en/stable/user_install.html\">Jupyter\n",
       "  Widgets Documentation</a> for setup instructions.\n",
       "</p>\n",
       "<p>\n",
       "  If you're reading this message in another frontend (for example, a static\n",
       "  rendering on GitHub or <a href=\"https://nbviewer.jupyter.org/\">NBViewer</a>),\n",
       "  it may mean that your frontend doesn't currently support widgets.\n",
       "</p>\n"
      ],
      "text/plain": [
       "interactive(children=(Dropdown(description='View', options=('Bug', 'Dark', 'Dragon', 'Electric', 'Fairy', 'Fighting', 'Fire', 'Flying', 'Ghost', 'Grass', 'Ground', 'Ice', 'Normal', 'Poison', 'Psychic', 'Rock', 'Steel', 'Water'), value='Bug'), Output()), _dom_classes=('widget-interact',))"
      ]
     },
     "metadata": {},
     "output_type": "display_data"
    }
   ],
   "source": [
    "import ipywidgets as widgets\n",
    "from IPython.display import display\n",
    "\n",
    "group_by = {'Type':sorted(df['Type_1'].unique()),\n",
    "            'Stat':['Total', 'HP','Attack', 'Defense', 'Sp_Atk', 'Sp_Def', 'Speed']}\n",
    "\n",
    "def select_view(Group):\n",
    "    vW.options = group_by[Group]\n",
    "    print('Choose to view types or stats.')\n",
    "    print('')\n",
    "\n",
    "def display_view(View):\n",
    "    print('Choose to view specific type or stat.')\n",
    "    print('')\n",
    "    if View in df['Type_1'].unique():\n",
    "        temp = df.loc[(df['Type_1'] == View) | (df['Type_2'] == View)]\n",
    "\n",
    "        plt.figure(figsize=(12, 8))\n",
    "        sns.boxplot(data=temp[['HP','Attack', 'Defense', 'Sp_Atk', 'Sp_Def', 'Speed']], color=colors_dct[View])\n",
    "        plt.xlabel('Stat')\n",
    "        plt.title('{} Stats'.format(View))\n",
    "    elif View in ['Total', 'HP','Attack', 'Defense', 'Sp_Atk', 'Sp_Def', 'Speed']:\n",
    "        empty = pd.DataFrame(columns=[View, 'Type'])\n",
    "        for type_ in sorted(df['Type_1'].unique()):\n",
    "            test = df[['Type_1', 'Type_2', View]].loc[(df['Type_1'] == type_) | (df['Type_2'] == type_)]\n",
    "            test['Type'] = type_\n",
    "            test = test[[View, 'Type']]\n",
    "            empty = empty.append(test)\n",
    "        empty[View] = empty[View].astype(int)\n",
    "        empty['Type'] = empty['Type'].astype(str)\n",
    "        \n",
    "        plt.figure(figsize=(12, 8))\n",
    "        sns.boxplot(x='Type', y=View, data=empty, palette=colors_lst)\n",
    "        plt.xlabel('Type')\n",
    "        plt.title('{} by Type'.format(View))\n",
    "    plt.show()\n",
    "    plt.close()\n",
    "\n",
    "gW = widgets.Dropdown(options=list(group_by.keys()))\n",
    "vW = widgets.Dropdown()\n",
    "\n",
    "i = widgets.interactive(select_view, Group=gW)\n",
    "j = widgets.interactive(display_view, View=vW)\n",
    "\n",
    "display(i)\n",
    "display(j)"
   ]
  },
  {
   "cell_type": "code",
   "execution_count": null,
   "metadata": {},
   "outputs": [],
   "source": []
  },
  {
   "cell_type": "code",
   "execution_count": null,
   "metadata": {},
   "outputs": [],
   "source": []
  }
 ],
 "metadata": {
  "kernel_info": {
   "name": "python3"
  },
  "kernelspec": {
   "display_name": "Python 3",
   "language": "python",
   "name": "python3"
  },
  "language_info": {
   "codemirror_mode": {
    "name": "ipython",
    "version": 3
   },
   "file_extension": ".py",
   "mimetype": "text/x-python",
   "name": "python",
   "nbconvert_exporter": "python",
   "pygments_lexer": "ipython3",
   "version": "3.6.4"
  },
  "nteract": {
   "version": "0.8.4"
  }
 },
 "nbformat": 4,
 "nbformat_minor": 4
}
